{
 "cells": [
  {
   "cell_type": "code",
   "execution_count": 37,
   "metadata": {},
   "outputs": [],
   "source": [
    "import pandas as pd\n",
    "import os"
   ]
  },
  {
   "cell_type": "code",
   "execution_count": 40,
   "metadata": {},
   "outputs": [],
   "source": [
    "plot_file_path = 'C:\\\\Users\\\\am122\\\\Desktop\\\\Reflection Coefficients\\\\Plot Files'\n",
    "output_path = 'C:\\\\Users\\\\am122\\\\Desktop\\\\Wireless Visualization Scripts\\\\Reflection Coefficients'\n",
    "\n",
    "materials = ['Concrete','Foam','Glass','LayeredDrywall','Metal','Plastic','SeaWater','Wood']\n",
    "materials = ['Concrete5330','Concrete5334']\n",
    "polarizations = ['parallel','perp']"
   ]
  },
  {
   "cell_type": "code",
   "execution_count": 39,
   "metadata": {},
   "outputs": [
    {
     "name": "stdout",
     "output_type": "stream",
     "text": [
      "Started Concrete parallel\n",
      "Started Concrete perp\n",
      "Started Foam parallel\n",
      "Started Foam perp\n",
      "Started Glass parallel\n",
      "Started Glass perp\n",
      "Started LayeredDrywall parallel\n",
      "Started LayeredDrywall perp\n",
      "Started Metal parallel\n",
      "Started Metal perp\n",
      "Started Plastic parallel\n",
      "Started Plastic perp\n",
      "Started SeaWater parallel\n",
      "Started SeaWater perp\n",
      "Started Wood parallel\n",
      "Started Wood perp\n"
     ]
    }
   ],
   "source": [
    "for folder in materials:\n",
    "    for polarization in polarizations:\n",
    "        print(f\"Started {folder} {polarization}\")\n",
    "        mag_path = f\"{plot_file_path}\\\\{folder}\\\\{polarization}_mag.plt\"\n",
    "        phs_path = f\"{plot_file_path}\\\\{folder}\\\\{polarization}_phs.plt\"\n",
    "\n",
    "        mag_df = pd.read_csv(mag_path, \n",
    "                 delim_whitespace=True, \n",
    "                 skiprows=19,\n",
    "                 header=None)\n",
    "        phs_df = pd.read_csv(mag_path, \n",
    "                 delim_whitespace=True, \n",
    "                 skiprows=19,\n",
    "                 header=None)\n",
    "        \n",
    "        mag_df.columns = ['Angle (deg)', 'Magnitude (dB)']\n",
    "        phs_df.columns = ['Angle (deg)', 'Phase (deg)']\n",
    "\n",
    "        merged = mag_df.merge(phs_df, on = 'Angle (deg)')\n",
    "\n",
    "        merged.to_csv(f\"{output_path}\\\\{polarization}\\\\{folder}.csv\", index = False)"
   ]
  },
  {
   "cell_type": "code",
   "execution_count": 42,
   "metadata": {},
   "outputs": [
    {
     "name": "stdout",
     "output_type": "stream",
     "text": [
      "Started Concrete5330 parallel\n",
      "Started Concrete5330 perp\n",
      "Started Concrete5334 parallel\n",
      "Started Concrete5334 perp\n"
     ]
    }
   ],
   "source": [
    "for folder in materials:\n",
    "    for polarization in polarizations:\n",
    "        print(f\"Started {folder} {polarization}\")\n",
    "        mag_path = f\"{plot_file_path}\\\\{folder}\\\\{polarization}_mag.plt\"\n",
    "        phs_path = f\"{plot_file_path}\\\\{folder}\\\\{polarization}_phs.plt\"\n",
    "\n",
    "        mag_df = pd.read_csv(mag_path, \n",
    "                 delim_whitespace=True, \n",
    "                 skiprows=19,\n",
    "                 header=None)\n",
    "        phs_df = pd.read_csv(mag_path, \n",
    "                 delim_whitespace=True, \n",
    "                 skiprows=19,\n",
    "                 header=None)\n",
    "        \n",
    "        mag_df.columns = ['Angle (deg)', 'Magnitude (dB)']\n",
    "        phs_df.columns = ['Angle (deg)', 'Phase (deg)']\n",
    "\n",
    "        merged = mag_df.merge(phs_df, on = 'Angle (deg)')\n",
    "\n",
    "        merged.to_csv(f\"{output_path}\\\\{polarization}\\\\{folder}.csv\", index = False)"
   ]
  },
  {
   "cell_type": "code",
   "execution_count": 35,
   "metadata": {},
   "outputs": [],
   "source": [
    "test_path = 'C:\\\\Users\\\\am122\\\\Desktop\\\\Reflection Coefficients\\\\Plot Files\\\\Concrete\\parallel_mag.plt'\n",
    "df1 = pd.read_csv(test_path, \n",
    "                 delim_whitespace=True, \n",
    "                 skiprows=19,\n",
    "                 header=None)\n",
    "\n",
    "test_path2 = 'C:\\\\Users\\\\am122\\\\Desktop\\\\Reflection Coefficients\\\\Plot Files\\\\Concrete\\parallel_phs.plt'\n",
    "df2 = pd.read_csv(test_path2, \n",
    "                 delim_whitespace=True, \n",
    "                 skiprows=19,\n",
    "                 header=None)\n",
    "\n",
    "df1.columns = ['Angle (deg)', 'Magnitude (dB)']\n",
    "df2.columns = ['Angle (deg)', 'Phase (deg)']\n",
    "\n",
    "\n",
    "tmp = df1.merge(df2, on= 'Angle (deg)')\n",
    "tmp.to_csv(f\"C:\\\\Users\\\\am122\\\\Desktop\\\\Wireless Visualization Scripts\\\\Reflection Coefficients\\\\parallel\\\\test.csv\", index = False)"
   ]
  },
  {
   "cell_type": "code",
   "execution_count": 27,
   "metadata": {},
   "outputs": [
    {
     "data": {
      "text/html": [
       "<div>\n",
       "<style scoped>\n",
       "    .dataframe tbody tr th:only-of-type {\n",
       "        vertical-align: middle;\n",
       "    }\n",
       "\n",
       "    .dataframe tbody tr th {\n",
       "        vertical-align: top;\n",
       "    }\n",
       "\n",
       "    .dataframe thead th {\n",
       "        text-align: right;\n",
       "    }\n",
       "</style>\n",
       "<table border=\"1\" class=\"dataframe\">\n",
       "  <thead>\n",
       "    <tr style=\"text-align: right;\">\n",
       "      <th></th>\n",
       "      <th>index</th>\n",
       "      <th>value1</th>\n",
       "    </tr>\n",
       "  </thead>\n",
       "  <tbody>\n",
       "    <tr>\n",
       "      <th>0</th>\n",
       "      <td>0.0</td>\n",
       "      <td>-8.034660e+00</td>\n",
       "    </tr>\n",
       "    <tr>\n",
       "      <th>1</th>\n",
       "      <td>0.1</td>\n",
       "      <td>-8.034670e+00</td>\n",
       "    </tr>\n",
       "    <tr>\n",
       "      <th>2</th>\n",
       "      <td>0.2</td>\n",
       "      <td>-8.034700e+00</td>\n",
       "    </tr>\n",
       "    <tr>\n",
       "      <th>3</th>\n",
       "      <td>0.3</td>\n",
       "      <td>-8.034760e+00</td>\n",
       "    </tr>\n",
       "    <tr>\n",
       "      <th>4</th>\n",
       "      <td>0.4</td>\n",
       "      <td>-8.034840e+00</td>\n",
       "    </tr>\n",
       "    <tr>\n",
       "      <th>...</th>\n",
       "      <td>...</td>\n",
       "      <td>...</td>\n",
       "    </tr>\n",
       "    <tr>\n",
       "      <th>896</th>\n",
       "      <td>89.6</td>\n",
       "      <td>-3.106620e-01</td>\n",
       "    </tr>\n",
       "    <tr>\n",
       "      <th>897</th>\n",
       "      <td>89.7</td>\n",
       "      <td>-2.329890e-01</td>\n",
       "    </tr>\n",
       "    <tr>\n",
       "      <th>898</th>\n",
       "      <td>89.8</td>\n",
       "      <td>-1.553230e-01</td>\n",
       "    </tr>\n",
       "    <tr>\n",
       "      <th>899</th>\n",
       "      <td>89.9</td>\n",
       "      <td>-7.766110e-02</td>\n",
       "    </tr>\n",
       "    <tr>\n",
       "      <th>900</th>\n",
       "      <td>90.0</td>\n",
       "      <td>-2.892980e-15</td>\n",
       "    </tr>\n",
       "  </tbody>\n",
       "</table>\n",
       "<p>901 rows × 2 columns</p>\n",
       "</div>"
      ],
      "text/plain": [
       "     index        value1\n",
       "0      0.0 -8.034660e+00\n",
       "1      0.1 -8.034670e+00\n",
       "2      0.2 -8.034700e+00\n",
       "3      0.3 -8.034760e+00\n",
       "4      0.4 -8.034840e+00\n",
       "..     ...           ...\n",
       "896   89.6 -3.106620e-01\n",
       "897   89.7 -2.329890e-01\n",
       "898   89.8 -1.553230e-01\n",
       "899   89.9 -7.766110e-02\n",
       "900   90.0 -2.892980e-15\n",
       "\n",
       "[901 rows x 2 columns]"
      ]
     },
     "execution_count": 27,
     "metadata": {},
     "output_type": "execute_result"
    }
   ],
   "source": [
    "df1"
   ]
  },
  {
   "cell_type": "code",
   "execution_count": null,
   "metadata": {},
   "outputs": [],
   "source": []
  }
 ],
 "metadata": {
  "kernelspec": {
   "display_name": "base",
   "language": "python",
   "name": "python3"
  },
  "language_info": {
   "codemirror_mode": {
    "name": "ipython",
    "version": 3
   },
   "file_extension": ".py",
   "mimetype": "text/x-python",
   "name": "python",
   "nbconvert_exporter": "python",
   "pygments_lexer": "ipython3",
   "version": "undefined.undefined.undefined"
  }
 },
 "nbformat": 4,
 "nbformat_minor": 2
}
